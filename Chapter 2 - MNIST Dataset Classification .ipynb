{
 "cells": [
  {
   "cell_type": "markdown",
   "metadata": {},
   "source": [
    " "
   ]
  },
  {
   "cell_type": "markdown",
   "metadata": {},
   "source": [
    "# MNIST Dataset classification\n"
   ]
  },
  {
   "cell_type": "markdown",
   "metadata": {},
   "source": [
    "in this module we will be useing the MNIST  dataset, which is a set of 70000 small images of digits handwritten by high school students and employees of the US cencus Bureau. Each image is labeled with the digit it represents. This set has been studied so much that it si often called the \" Hello world \" of Machile Learning."
   ]
  },
  {
   "cell_type": "markdown",
   "metadata": {},
   "source": [
    "## 1.1 Importing Libraries"
   ]
  },
  {
   "cell_type": "code",
   "execution_count": 2,
   "metadata": {},
   "outputs": [],
   "source": [
    "import numpy as np\n",
    "import pandas as pd\n",
    "import matplotlib as mpl\n",
    "import matplotlib.pyplot as plt"
   ]
  },
  {
   "cell_type": "markdown",
   "metadata": {},
   "source": [
    "## 1.1 Imprting dataset"
   ]
  },
  {
   "cell_type": "code",
   "execution_count": 3,
   "metadata": {},
   "outputs": [
    {
     "data": {
      "text/plain": [
       "dict_keys(['data', 'target', 'frame', 'categories', 'feature_names', 'target_names', 'DESCR', 'details', 'url'])"
      ]
     },
     "execution_count": 3,
     "metadata": {},
     "output_type": "execute_result"
    }
   ],
   "source": [
    "from sklearn.datasets import fetch_openml\n",
    "mnist = fetch_openml('mnist_784', version = 1)\n",
    "mnist.keys()"
   ]
  },
  {
   "cell_type": "code",
   "execution_count": 4,
   "metadata": {},
   "outputs": [],
   "source": [
    "X, y =  mnist['data'], mnist['target']"
   ]
  },
  {
   "cell_type": "code",
   "execution_count": 5,
   "metadata": {},
   "outputs": [],
   "source": [
    "# y is stored  as string values ...y[100]='5'\n",
    "# so, make it int using /arr.astype(uint8)/\n",
    "\n",
    "y = y.astype(np.uint8)"
   ]
  },
  {
   "cell_type": "code",
   "execution_count": 6,
   "metadata": {},
   "outputs": [
    {
     "data": {
      "text/plain": [
       "((70000, 784), (70000,))"
      ]
     },
     "execution_count": 6,
     "metadata": {},
     "output_type": "execute_result"
    }
   ],
   "source": [
    "X.shape, y.shape"
   ]
  },
  {
   "cell_type": "markdown",
   "metadata": {},
   "source": [
    "### ploting an image"
   ]
  },
  {
   "cell_type": "code",
   "execution_count": 7,
   "metadata": {},
   "outputs": [
    {
     "data": {
      "image/png": "[encoded data removed]",
      "text/plain": [
       "<Figure size 432x288 with 1 Axes>"
      ]
     },
     "metadata": {
      "needs_background": "light"
     },
     "output_type": "display_data"
    }
   ],
   "source": [
    "some_digit = X[35]\n",
    "some_digit_image = some_digit.reshape(28, 28)\n",
    "plt.imshow(some_digit_image, cmap = mpl.cm.binary , interpolation=\"nearest\" )\n",
    "plt.axis(\"off\")\n",
    "plt.show()"
   ]
  },
  {
   "cell_type": "markdown",
   "metadata": {},
   "source": [
    "### data splitting test and train"
   ]
  },
  {
   "cell_type": "code",
   "execution_count": 8,
   "metadata": {},
   "outputs": [],
   "source": [
    "X_train, X_test, y_train, y_test = X[:60000], X[:10000], y[:60000], y[:10000]"
   ]
  },
  {
   "cell_type": "markdown",
   "metadata": {},
   "source": [
    "# Training Models for Prediction of 5s"
   ]
  },
  {
   "cell_type": "code",
   "execution_count": 9,
   "metadata": {},
   "outputs": [],
   "source": [
    "y_train_5 = (y_train == 5)  #True for all 5 and false for not 5\n",
    "y_test_5 = (y_test == 5)"
   ]
  },
  {
   "cell_type": "code",
   "execution_count": 10,
   "metadata": {},
   "outputs": [
    {
     "data": {
      "text/plain": [
       "SGDClassifier(random_state=42)"
      ]
     },
     "execution_count": 10,
     "metadata": {},
     "output_type": "execute_result"
    }
   ],
   "source": [
    "# using Stochastic Gradient Descent on binary Classification of number 5\n",
    "from sklearn.linear_model import SGDClassifier\n",
    "\n",
    "sgd_clf = SGDClassifier(random_state=42)\n",
    "sgd_clf.fit(X_train, y_train_5)"
   ]
  },
  {
   "cell_type": "code",
   "execution_count": 11,
   "metadata": {},
   "outputs": [
    {
     "data": {
      "text/plain": [
       "array([ True])"
      ]
     },
     "execution_count": 11,
     "metadata": {},
     "output_type": "execute_result"
    }
   ],
   "source": [
    "sgd_clf.predict([some_digit])"
   ]
  },
  {
   "cell_type": "code",
   "execution_count": 12,
   "metadata": {},
   "outputs": [
    {
     "data": {
      "text/plain": [
       "array([0.95035, 0.96035, 0.9604 ])"
      ]
     },
     "execution_count": 12,
     "metadata": {},
     "output_type": "execute_result"
    }
   ],
   "source": [
    "# Finding the CrossValidation Score \n",
    "\n",
    "from sklearn.model_selection import cross_val_score\n",
    "cross_val_score(sgd_clf, X_train, y_train_5, cv = 3, scoring=\"accuracy\")"
   ]
  },
  {
   "cell_type": "markdown",
   "metadata": {},
   "source": [
    "### Confusion Matrix"
   ]
  },
  {
   "cell_type": "code",
   "execution_count": 13,
   "metadata": {},
   "outputs": [
    {
     "data": {
      "text/plain": [
       "array([[53892,   687],\n",
       "       [ 1891,  3530]], dtype=int64)"
      ]
     },
     "execution_count": 13,
     "metadata": {},
     "output_type": "execute_result"
    }
   ],
   "source": [
    "# Dont get excited to see this 96% accuracy because even if it only predicts all the values to be 0 then also it will have 90% , 10% data is 5\n",
    "# The more better way to cal the profeciency is to calculate the confussion matrix\n",
    "\n",
    "from sklearn.model_selection import cross_val_predict\n",
    "y_train_pred = cross_val_predict(sgd_clf, X_train, y_train_5, cv=3)\n",
    "\n",
    "\n",
    "from sklearn.metrics import confusion_matrix\n",
    "confusion_matrix(y_train_5, y_train_pred)"
   ]
  },
  {
   "cell_type": "markdown",
   "metadata": {},
   "source": [
    "### Precision Recall and F1 Score"
   ]
  },
  {
   "cell_type": "code",
   "execution_count": 14,
   "metadata": {},
   "outputs": [
    {
     "name": "stdout",
     "output_type": "stream",
     "text": [
      "Precision:  0.8370879772350012\n",
      "Recall:  0.6511713705958311\n",
      "F1 : 0.7325171197343846\n"
     ]
    }
   ],
   "source": [
    "# Precision Score: TP/(TP+FP)\n",
    "# Recall Score: TP/(TP+FN)\n",
    "# F1 Score: harmonic mean of ps and rs ...2/((1/pre)+(1/rec))\n",
    "\n",
    "from sklearn.metrics import precision_score, recall_score, f1_score\n",
    "print(\"Precision: \", precision_score(y_train_5, y_train_pred))\n",
    "print(\"Recall: \", recall_score(y_train_5, y_train_pred))\n",
    "print(\"F1 :\", f1_score(y_train_5, y_train_pred))"
   ]
  },
  {
   "cell_type": "markdown",
   "metadata": {},
   "source": [
    "### Precision Recall Tradeoff"
   ]
  },
  {
   "cell_type": "code",
   "execution_count": 15,
   "metadata": {},
   "outputs": [],
   "source": [
    "# return desicison score instead of prediction \n",
    "\n",
    "y_score = cross_val_predict(sgd_clf, X_train, y_train_5, cv=3, method=\"decision_function\")\n"
   ]
  },
  {
   "cell_type": "code",
   "execution_count": 16,
   "metadata": {},
   "outputs": [
    {
     "data": {
      "image/png": "[encoded data removed]",
      "text/plain": [
       "<Figure size 648x360 with 1 Axes>"
      ]
     },
     "metadata": {
      "needs_background": "light"
     },
     "output_type": "display_data"
    }
   ],
   "source": [
    "from sklearn.metrics import precision_recall_curve\n",
    "\n",
    "precision, recalls, thresholds = precision_recall_curve(y_train_5, y_score)\n",
    "\n",
    "plt.figure(figsize=(9,5))\n",
    "plt.plot(thresholds, precision[:-1],\"b--\", label=\"Precision\")\n",
    "plt.plot(thresholds, recalls[:-1],\"g-\", label=\"Recall\")\n",
    "plt.scatter([2800],[0.9],c=\"r\")\n",
    "plt.scatter([2800],[0.479],c=\"r\")\n",
    "plt.plot([-100000,2800],[0.9,0.9],\"r--\")\n",
    "plt.plot([-100000,2800],[0.479,0.479],\"r--\")\n",
    "plt.plot([2800,2800],[0.9,0],\"r--\")\n",
    "plt.title(\"Precision set to 90%\")\n",
    "plt.legend()\n",
    "plt.axis(\"on\")\n",
    "plt.grid(\"on\")\n",
    "plt.show()"
   ]
  },
  {
   "cell_type": "markdown",
   "metadata": {},
   "source": [
    "#### Aim for precision 90%"
   ]
  },
  {
   "cell_type": "code",
   "execution_count": 17,
   "metadata": {},
   "outputs": [],
   "source": [
    "threshold_90_precision = thresholds[np.argmax(precision >= 0.90)]\n",
    "\n",
    "#prediction calculation directly from decision function method\n",
    "y_train_pred_90 = (y_score >= threshold_90_precision)\n"
   ]
  },
  {
   "cell_type": "code",
   "execution_count": 18,
   "metadata": {},
   "outputs": [
    {
     "name": "stdout",
     "output_type": "stream",
     "text": [
      "0.9000345901072293 0.4799852425751706\n"
     ]
    }
   ],
   "source": [
    "print(\n",
    "    precision_score(y_train_5, y_train_pred_90),\n",
    "    recall_score(y_train_5, y_train_pred_90)\n",
    ")"
   ]
  },
  {
   "cell_type": "markdown",
   "metadata": {},
   "source": [
    "### Precision v/s Recall curve"
   ]
  },
  {
   "cell_type": "code",
   "execution_count": 19,
   "metadata": {},
   "outputs": [
    {
     "data": {
      "image/png": "[encoded data removed]",
      "text/plain": [
       "<Figure size 720x360 with 1 Axes>"
      ]
     },
     "metadata": {
      "needs_background": "light"
     },
     "output_type": "display_data"
    }
   ],
   "source": [
    "plt.figure(figsize=(10,5))\n",
    "plt.plot(recalls, precision, linewidth=5)\n",
    "plt.xlabel(\"recall\")\n",
    "plt.ylabel(\"Precision\")\n",
    "plt.grid(\"on\")"
   ]
  },
  {
   "cell_type": "markdown",
   "metadata": {},
   "source": [
    "### ROC Curve <sub>(Reciever Operating Characterstic)</sub>\n",
    "<hr>\n",
    "\n",
    "Same as precision vs recall but use TPR(Total Positve Rate) and FPR (False Positive Rate).\n",
    "\n",
    "• TPR : another name of recall (Sensitivity) <br>\n",
    "• FPR : Ratio of -ve instances incorrectly classified as +ve <br> \n",
    "• FPR : 1-TNR <br>\n",
    "• TNR : Specificity\n"
   ]
  },
  {
   "cell_type": "code",
   "execution_count": 20,
   "metadata": {},
   "outputs": [
    {
     "data": {
      "image/png": "[encoded data removed]",
      "text/plain": [
       "<Figure size 432x288 with 1 Axes>"
      ]
     },
     "metadata": {
      "needs_background": "light"
     },
     "output_type": "display_data"
    }
   ],
   "source": [
    "from sklearn.metrics import roc_curve\n",
    "fpr, tpr, threshold = roc_curve(y_train_5, y_score)\n",
    "\n",
    "plt.plot(fpr, tpr, linewidth=2, label= \"ROC CURVE\")\n",
    "plt.plot([0, 1],[0, 1], 'k--', )\n",
    "plt.legend()\n",
    "plt.grid(\"on\")\n",
    "plt.show()"
   ]
  },
  {
   "cell_type": "markdown",
   "metadata": {},
   "source": [
    "### ROC - AUC\n",
    "This is ROC Area Under Curve <br>\n",
    "A perfect\n",
    "classifier will have a ROC AUC equal to 1, whereas a purely random classifier will\n",
    "have a ROC AUC equal to 0.5"
   ]
  },
  {
   "cell_type": "code",
   "execution_count": 21,
   "metadata": {},
   "outputs": [
    {
     "data": {
      "text/plain": [
       "0.9604938554008616"
      ]
     },
     "execution_count": 21,
     "metadata": {},
     "output_type": "execute_result"
    }
   ],
   "source": [
    "from sklearn.metrics import roc_auc_score\n",
    "roc_auc_score(y_train_5, y_score)"
   ]
  },
  {
   "cell_type": "markdown",
   "metadata": {},
   "source": [
    "## RandomForestClassifier - ROC and AUC"
   ]
  },
  {
   "cell_type": "code",
   "execution_count": 22,
   "metadata": {},
   "outputs": [],
   "source": [
    "from sklearn.ensemble import RandomForestClassifier\n",
    "\n",
    "forest_clf = RandomForestClassifier(random_state = 42)\n",
    "y_probas_forest = cross_val_predict(forest_clf, X_train, y_train_5, cv=3, method=\"predict_proba\")"
   ]
  },
  {
   "cell_type": "code",
   "execution_count": 23,
   "metadata": {},
   "outputs": [],
   "source": [
    "y_scores_forest = y_probas_forest[:, 1]\n",
    "fpr_forest, tpr_forest, threshold_forest = roc_curve(y_train_5, y_scores_forest)"
   ]
  },
  {
   "cell_type": "code",
   "execution_count": 24,
   "metadata": {},
   "outputs": [
    {
     "data": {
      "image/png": "[encoded data removed]",
      "text/plain": [
       "<Figure size 432x288 with 1 Axes>"
      ]
     },
     "metadata": {
      "needs_background": "light"
     },
     "output_type": "display_data"
    }
   ],
   "source": [
    "# ROC CURVE PLOTTING\n",
    "\n",
    "plt.plot(fpr_forest, tpr_forest, label=\"Random Forest\")\n",
    "plt.plot(fpr, tpr,\"r--\", label=\"SGDClassifier\")\n",
    "plt.legend()\n",
    "plt.grid(\"on\")\n",
    "plt.show()"
   ]
  },
  {
   "cell_type": "code",
   "execution_count": 25,
   "metadata": {},
   "outputs": [
    {
     "data": {
      "text/plain": [
       "0.9983436731328145"
      ]
     },
     "execution_count": 25,
     "metadata": {},
     "output_type": "execute_result"
    }
   ],
   "source": [
    "# ROC AUC SCORE \n",
    "\n",
    "roc_auc_score(y_train_5, y_scores_forest)"
   ]
  },
  {
   "cell_type": "markdown",
   "metadata": {},
   "source": [
    "# !!! 🤔🤓 GOT 99% ACCURACY WITH RANDOM-FOREST...."
   ]
  },
  {
   "cell_type": "markdown",
   "metadata": {},
   "source": [
    "<hr>"
   ]
  },
  {
   "cell_type": "markdown",
   "metadata": {},
   "source": [
    "## Recap, How to train Binary Classifiers...📝\n",
    "#### Choose the appropriate metric for your task, evaluate your classifiers using cross-validation, select the precision/ recall tradeoff that fits your needs, and compare various models using ROC curves and ROC AUC scores."
   ]
  },
  {
   "cell_type": "markdown",
   "metadata": {},
   "source": [
    "<hr>"
   ]
  },
  {
   "cell_type": "markdown",
   "metadata": {},
   "source": [
    "# Multiclass Classification"
   ]
  },
  {
   "cell_type": "markdown",
   "metadata": {},
   "source": [
    "1. One Vs All Classifier\n",
    "2. One Vs One Classifier<br>\n",
    "...they are methods to train binary classifiers as multiclass classifier"
   ]
  },
  {
   "cell_type": "markdown",
   "metadata": {},
   "source": [
    "### Train it with SGDClassifier"
   ]
  },
  {
   "cell_type": "code",
   "execution_count": 26,
   "metadata": {},
   "outputs": [
    {
     "data": {
      "text/plain": [
       "SGDClassifier(random_state=42)"
      ]
     },
     "execution_count": 26,
     "metadata": {},
     "output_type": "execute_result"
    }
   ],
   "source": [
    "sgd_clf.fit(X_train, y_train) #It is just simple as that for some classifiers.. but not for all"
   ]
  },
  {
   "cell_type": "code",
   "execution_count": 27,
   "metadata": {},
   "outputs": [
    {
     "data": {
      "text/plain": [
       "array([5], dtype=uint8)"
      ]
     },
     "execution_count": 27,
     "metadata": {},
     "output_type": "execute_result"
    }
   ],
   "source": [
    "sgd_clf.predict([some_digit]) #Predicting the some_digit"
   ]
  },
  {
   "cell_type": "markdown",
   "metadata": {},
   "source": [
    "<i>Scikit-Learn detects when you try to use a binary classification algorithm for a multiclass\n",
    "classification task, and it automatically runs OvA (except for SVM classifiers for\n",
    "which it uses OvO).</i>"
   ]
  },
  {
   "cell_type": "code",
   "execution_count": 28,
   "metadata": {},
   "outputs": [
    {
     "data": {
      "text/plain": [
       "array([[-14400.67322862, -11585.51697742,  -7766.21413227,\n",
       "          -482.92574848, -10954.47634734,    588.01312633,\n",
       "        -23848.72014809, -13492.71061272,  -2651.17639341,\n",
       "        -10108.09543083]])"
      ]
     },
     "execution_count": 28,
     "metadata": {},
     "output_type": "execute_result"
    }
   ],
   "source": [
    "some_digit_score = sgd_clf.decision_function([some_digit])\n",
    "some_digit_score  #The highest score is indeed the one corresponding to class 5:"
   ]
  },
  {
   "cell_type": "code",
   "execution_count": 29,
   "metadata": {},
   "outputs": [],
   "source": [
    "# To get the list of probablities\n",
    "#.\n",
    "# forest_clf.predict_proba([some_digit])\n",
    "\n",
    "# works well for forest classifier"
   ]
  },
  {
   "cell_type": "markdown",
   "metadata": {},
   "source": [
    "### Training over scaled data"
   ]
  },
  {
   "cell_type": "code",
   "execution_count": null,
   "metadata": {},
   "outputs": [],
   "source": [
    "# cross_val_score(sgd_clf, X_train, y_train, cv=3, scoring=\"accuracy\")\n",
    "# \n",
    "# takes too much time to run....just leave it,\n",
    "# OUTPUT:  80% Accuracy "
   ]
  },
  {
   "cell_type": "code",
   "execution_count": 32,
   "metadata": {},
   "outputs": [],
   "source": [
    "# cant run completely due to performance issue\n",
    "from sklearn.preprocessing import StandardScaler\n",
    "\n",
    "scaler = StandardScaler()\n",
    "X_train_scaled = scaler.fit_transform(X_train.astype(np.float64))\n",
    "\n",
    "# cross_val_score(sgd_clf, X_train_scaled, y_train, cv=3, scoring=\"accuracy\")\n",
    "\n",
    "# OUTPUT : 90% Accuracy\n",
    "# just by scaling, you can increase the accuracy by 10%"
   ]
  },
  {
   "cell_type": "markdown",
   "metadata": {},
   "source": [
    "## Error Analysis"
   ]
  },
  {
   "cell_type": "markdown",
   "metadata": {},
   "source": [
    "<i> we cant just run these codes due to performance issue.<br>  We are just limited to only Binary Class Functions and Multiclass are just beyond the scope of this meachine. 😞</i>"
   ]
  },
  {
   "cell_type": "code",
   "execution_count": 58,
   "metadata": {},
   "outputs": [],
   "source": [
    "# y_train_pred = cross_val_predict(sgd_clf, X_train_scaled)\n",
    "# conf_mx = confusion_matrix( y_train, y_train_pred )\n",
    "conf_mx = np. array([[5578, 0, 22, 7, 8, 45, 35, 5, 222, 1],\n",
    "[ 0, 6410, 35, 26, 4, 44, 4, 8, 198, 13],\n",
    "[ 28, 27, 5232, 100, 74, 27, 68, 37, 354, 11],\n",
    "[ 23, 18, 115, 5254, 2, 209, 26, 38, 373, 73],\n",
    "[ 11, 14, 45, 12, 5219, 11, 33, 26, 299, 172],\n",
    "[ 26, 16, 31, 173, 54, 4484, 76, 14, 482, 65],\n",
    "[ 31, 17, 45, 2, 42, 98, 5556, 3, 123, 1],\n",
    "[ 20, 10, 53, 27, 50, 13, 3, 5696, 173, 220],\n",
    "[ 17, 64, 47, 91, 3, 125, 24, 11, 5421, 48],\n",
    "[ 24, 18, 29, 67, 116, 39, 1, 174, 329, 5152]])\n",
    "\n",
    "# making predictions using SGDClassifier\n",
    "# finding the confusion matrix\n",
    "#...here manually adding the data..."
   ]
  },
  {
   "cell_type": "code",
   "execution_count": 59,
   "metadata": {},
   "outputs": [
    {
     "data": {
      "image/png": "[encoded data removed]",
      "text/plain": [
       "<Figure size 288x288 with 1 Axes>"
      ]
     },
     "metadata": {
      "needs_background": "light"
     },
     "output_type": "display_data"
    }
   ],
   "source": [
    "plt.matshow(conf_mx, cmap = mpl.cm.gray)\n",
    "plt.show()"
   ]
  },
  {
   "cell_type": "markdown",
   "metadata": {},
   "source": [
    "The confusion matrix is just not valid as it depends on no of total entries of number present in the data. so, divide each value in the confusin matrix by the number for images in the corresponding class, so you can compare error rates instead of absolute number of errors"
   ]
  },
  {
   "cell_type": "code",
   "execution_count": 60,
   "metadata": {},
   "outputs": [],
   "source": [
    "# Removing the bais of the confusion matrix\n",
    "\n",
    "row_sums = conf_mx.sum(axis=1, keepdims=True)  #keepDimension is important as it returns a linear vector sum of all rows while we need sum stored beside each row so, keeping dimension as it is.\n",
    "norm_conf_mx = conf_mx / row_sums"
   ]
  },
  {
   "cell_type": "code",
   "execution_count": 61,
   "metadata": {},
   "outputs": [
    {
     "data": {
      "image/png": "[encoded data removed]",
      "text/plain": [
       "<Figure size 288x288 with 1 Axes>"
      ]
     },
     "metadata": {
      "needs_background": "light"
     },
     "output_type": "display_data"
    }
   ],
   "source": [
    "np.fill_diagonal(norm_conf_mx, 0)\n",
    "plt.matshow(norm_conf_mx, cmap=plt.cm.gray)\n",
    "plt.show()\n"
   ]
  },
  {
   "cell_type": "markdown",
   "metadata": {},
   "source": [
    "Remember that rows represent actual classes, while columns represent predicted classes. "
   ]
  },
  {
   "cell_type": "markdown",
   "metadata": {},
   "source": [
    "# 🥱Here we end up..."
   ]
  },
  {
   "cell_type": "markdown",
   "metadata": {},
   "source": [
    " "
   ]
  },
  {
   "cell_type": "markdown",
   "metadata": {},
   "source": [
    " "
   ]
  },
  {
   "cell_type": "markdown",
   "metadata": {},
   "source": [
    "\n",
    "\n",
    "#### sklearn.model_selection : \n",
    "    • cross_val_score\n",
    "    • cross_val_pred\n",
    "#### sklearn.model_matrics:\n",
    "    .• confussion_matrix\n",
    "     • precision_score\n",
    "     • recall_score\n",
    "     • f1_score\n",
    "     • precision_recall_curve\n",
    "     • roc_curve\n",
    "     • roc_auc_score\n",
    "#### sklearn.ensemble:\n",
    "     • RandomForestClassifier\n",
    "     \n",
    "#### sklearn.multiclass: \n",
    "     • OneVsOneClassifier\n",
    "\n",
    "#### sklearn.preprocessing: \n",
    "     • StandardScaler"
   ]
  },
  {
   "cell_type": "markdown",
   "metadata": {},
   "source": [
    " "
   ]
  }
 ],
 "metadata": {
  "kernelspec": {
   "display_name": "Python 3",
   "language": "python",
   "name": "python3"
  },
  "language_info": {
   "codemirror_mode": {
    "name": "ipython",
    "version": 3
   },
   "file_extension": ".py",
   "mimetype": "text/x-python",
   "name": "python",
   "nbconvert_exporter": "python",
   "pygments_lexer": "ipython3",
   "version": "3.8.3"
  }
 },
 "nbformat": 4,
 "nbformat_minor": 4
}
