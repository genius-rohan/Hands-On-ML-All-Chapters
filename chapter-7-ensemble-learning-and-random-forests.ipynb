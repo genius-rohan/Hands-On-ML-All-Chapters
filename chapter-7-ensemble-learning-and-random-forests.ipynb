{
 "cells": [
  {
   "cell_type": "code",
   "execution_count": 1,
   "id": "088f1e7c",
   "metadata": {
    "_cell_guid": "b1076dfc-b9ad-4769-8c92-a6c4dae69d19",
    "_uuid": "8f2839f25d086af736a60e9eeb907d3b93b6e0e5",
    "execution": {
     "iopub.execute_input": "2022-08-25T18:53:23.586808Z",
     "iopub.status.busy": "2022-08-25T18:53:23.585626Z",
     "iopub.status.idle": "2022-08-25T18:53:23.600308Z",
     "shell.execute_reply": "2022-08-25T18:53:23.598979Z"
    },
    "papermill": {
     "duration": 0.026731,
     "end_time": "2022-08-25T18:53:23.603153",
     "exception": false,
     "start_time": "2022-08-25T18:53:23.576422",
     "status": "completed"
    },
    "tags": []
   },
   "outputs": [],
   "source": [
    "# This Python 3 environment comes with many helpful analytics libraries installed\n",
    "# It is defined by the kaggle/python Docker image: https://github.com/kaggle/docker-python\n",
    "# For example, here's several helpful packages to load\n",
    "\n",
    "import numpy as np # linear algebra\n",
    "import pandas as pd # data processing, CSV file I/O (e.g. pd.read_csv)\n",
    "\n",
    "# Input data files are available in the read-only \"../input/\" directory\n",
    "# For example, running this (by clicking run or pressing Shift+Enter) will list all files under the input directory\n",
    "\n",
    "import os\n",
    "for dirname, _, filenames in os.walk('/kaggle/input'):\n",
    "    for filename in filenames:\n",
    "        print(os.path.join(dirname, filename))\n",
    "\n",
    "# You can write up to 20GB to the current directory (/kaggle/working/) that gets preserved as output when you create a version using \"Save & Run All\" \n",
    "# You can also write temporary files to /kaggle/temp/, but they won't be saved outside of the current session"
   ]
  },
  {
   "cell_type": "markdown",
   "id": "dbf35050",
   "metadata": {
    "papermill": {
     "duration": 0.004787,
     "end_time": "2022-08-25T18:53:23.613168",
     "exception": false,
     "start_time": "2022-08-25T18:53:23.608381",
     "status": "completed"
    },
    "tags": []
   },
   "source": [
    "#### Setup"
   ]
  },
  {
   "cell_type": "code",
   "execution_count": 2,
   "id": "0f857c17",
   "metadata": {
    "execution": {
     "iopub.execute_input": "2022-08-25T18:53:23.625342Z",
     "iopub.status.busy": "2022-08-25T18:53:23.624945Z",
     "iopub.status.idle": "2022-08-25T18:53:23.629608Z",
     "shell.execute_reply": "2022-08-25T18:53:23.628402Z"
    },
    "papermill": {
     "duration": 0.013611,
     "end_time": "2022-08-25T18:53:23.631945",
     "exception": false,
     "start_time": "2022-08-25T18:53:23.618334",
     "status": "completed"
    },
    "tags": []
   },
   "outputs": [],
   "source": [
    "import matplotlib.pyplot as plt\n",
    "import matplotlib as mpl"
   ]
  },
  {
   "cell_type": "markdown",
   "id": "2fd890d7",
   "metadata": {
    "papermill": {
     "duration": 0.004794,
     "end_time": "2022-08-25T18:53:23.641751",
     "exception": false,
     "start_time": "2022-08-25T18:53:23.636957",
     "status": "completed"
    },
    "tags": []
   },
   "source": [
    "## **CHAPTER 7**\n",
    "# Ensemble Learning and Random Forests"
   ]
  },
  {
   "cell_type": "markdown",
   "id": "595249e1",
   "metadata": {
    "papermill": {
     "duration": 0.004737,
     "end_time": "2022-08-25T18:53:23.651583",
     "exception": false,
     "start_time": "2022-08-25T18:53:23.646846",
     "status": "completed"
    },
    "tags": []
   },
   "source": [
    "If you aggregate\n",
    "the predictions of a group of predictors (such as classifiers or regressors), you will\n",
    "often get better predictions than with the best individual predictor. A group of predictors\n",
    "is called an ensemble; thus, this technique is called Ensemble Learning, and an\n",
    "Ensemble Learning algorithm is called an Ensemble method.<br>\n",
    "An ensemble of Decision Trees is called a Random Forest,\n",
    "and despite its simplicity, this is one of the most powerful Machine Learning algorithms\n",
    "available today.\n"
   ]
  },
  {
   "cell_type": "markdown",
   "id": "c3fb8b1c",
   "metadata": {
    "papermill": {
     "duration": 0.004808,
     "end_time": "2022-08-25T18:53:23.661370",
     "exception": false,
     "start_time": "2022-08-25T18:53:23.656562",
     "status": "completed"
    },
    "tags": []
   },
   "source": [
    "### 📌REMEMBER\n",
    ">Ensemble methods work best when the predictors are as independent\n",
    "from one another as possible. One way to get diverse classifiers\n",
    "is to train them using very different algorithms. This increases the\n",
    "chance that they will make very different types of errors, improving\n",
    "the ensemble’s accuracy."
   ]
  },
  {
   "cell_type": "markdown",
   "id": "caad59fb",
   "metadata": {
    "papermill": {
     "duration": 0.004595,
     "end_time": "2022-08-25T18:53:23.671083",
     "exception": false,
     "start_time": "2022-08-25T18:53:23.666488",
     "status": "completed"
    },
    "tags": []
   },
   "source": [
    "# 1) Voting Classifiers"
   ]
  },
  {
   "cell_type": "markdown",
   "id": "6e419894",
   "metadata": {
    "papermill": {
     "duration": 0.004653,
     "end_time": "2022-08-25T18:53:23.680655",
     "exception": false,
     "start_time": "2022-08-25T18:53:23.676002",
     "status": "completed"
    },
    "tags": []
   },
   "source": [
    "Training **Random Forest, Logistic Regression and SVC** on Moon's Dataset (Chapter 5)\n",
    ">A very simple way to create an even better classifier is to aggregate the predictions of\n",
    "each classifier and predict the class that gets the most votes. This majority-vote classifier\n",
    "is called a hard voting classifier"
   ]
  },
  {
   "cell_type": "code",
   "execution_count": 3,
   "id": "3847c42d",
   "metadata": {
    "execution": {
     "iopub.execute_input": "2022-08-25T18:53:23.692293Z",
     "iopub.status.busy": "2022-08-25T18:53:23.691863Z",
     "iopub.status.idle": "2022-08-25T18:53:25.015584Z",
     "shell.execute_reply": "2022-08-25T18:53:25.014269Z"
    },
    "papermill": {
     "duration": 1.332821,
     "end_time": "2022-08-25T18:53:25.018430",
     "exception": false,
     "start_time": "2022-08-25T18:53:23.685609",
     "status": "completed"
    },
    "tags": []
   },
   "outputs": [],
   "source": [
    "# Generaging Moons DataSet\n",
    "\n",
    "from sklearn.datasets import make_moons\n",
    "from sklearn.model_selection import train_test_split\n",
    "X, y = make_moons(n_samples=500, noise=0.3, random_state=42)\n",
    "\n",
    "X_train, X_test, y_train, y_test = train_test_split(X, y, train_size= 0.8)\n"
   ]
  },
  {
   "cell_type": "code",
   "execution_count": 4,
   "id": "d6735a33",
   "metadata": {
    "execution": {
     "iopub.execute_input": "2022-08-25T18:53:25.031488Z",
     "iopub.status.busy": "2022-08-25T18:53:25.030994Z",
     "iopub.status.idle": "2022-08-25T18:53:29.004013Z",
     "shell.execute_reply": "2022-08-25T18:53:29.002853Z"
    },
    "papermill": {
     "duration": 3.983975,
     "end_time": "2022-08-25T18:53:29.007592",
     "exception": false,
     "start_time": "2022-08-25T18:53:25.023617",
     "status": "completed"
    },
    "tags": []
   },
   "outputs": [
    {
     "data": {
      "image/png": "[encoded data removed]",
      "text/plain": [
       "<Figure size 432x288 with 1 Axes>"
      ]
     },
     "metadata": {
      "needs_background": "light"
     },
     "output_type": "display_data"
    },
    {
     "data": {
      "text/plain": [
       "((400, 2), (500, 2))"
      ]
     },
     "execution_count": 4,
     "metadata": {},
     "output_type": "execute_result"
    }
   ],
   "source": [
    "predicted = y_train\n",
    "for i in range(len(predicted)):\n",
    "    if predicted[i]:\n",
    "        plt.scatter(X_train[i, 0], X_train[i, 1], c=\"r\")\n",
    "    else:\n",
    "        plt.scatter(X_train[i, 0], X_train[i, 1], c=\"b\")\n",
    "\n",
    "plt.show()\n",
    "\n",
    "\n",
    "X_train.shape,X.shape"
   ]
  },
  {
   "cell_type": "code",
   "execution_count": 5,
   "id": "b515b19d",
   "metadata": {
    "execution": {
     "iopub.execute_input": "2022-08-25T18:53:29.022101Z",
     "iopub.status.busy": "2022-08-25T18:53:29.021409Z",
     "iopub.status.idle": "2022-08-25T18:53:29.444338Z",
     "shell.execute_reply": "2022-08-25T18:53:29.443145Z"
    },
    "papermill": {
     "duration": 0.43306,
     "end_time": "2022-08-25T18:53:29.447242",
     "exception": false,
     "start_time": "2022-08-25T18:53:29.014182",
     "status": "completed"
    },
    "tags": []
   },
   "outputs": [
    {
     "data": {
      "text/plain": [
       "VotingClassifier(estimators=[('lr', LogisticRegression()),\n",
       "                             ('rf', RandomForestClassifier()), ('svc', SVC())])"
      ]
     },
     "execution_count": 5,
     "metadata": {},
     "output_type": "execute_result"
    }
   ],
   "source": [
    "from sklearn.ensemble import VotingClassifier\n",
    "\n",
    "from sklearn.ensemble import RandomForestClassifier\n",
    "from sklearn.linear_model import LogisticRegression\n",
    "from sklearn.svm import SVC\n",
    "\n",
    "log_clf  = LogisticRegression()\n",
    "rnd_clf = RandomForestClassifier()\n",
    "svm_clf = SVC()\n",
    "\n",
    "voting_clf = VotingClassifier(\n",
    "    estimators=[('lr', log_clf), ('rf', rnd_clf), ('svc', svm_clf)],\n",
    "    voting='hard')\n",
    "voting_clf.fit(X_train, y_train)\n"
   ]
  },
  {
   "cell_type": "code",
   "execution_count": 6,
   "id": "326d64b0",
   "metadata": {
    "execution": {
     "iopub.execute_input": "2022-08-25T18:53:29.460288Z",
     "iopub.status.busy": "2022-08-25T18:53:29.459898Z",
     "iopub.status.idle": "2022-08-25T18:53:29.838223Z",
     "shell.execute_reply": "2022-08-25T18:53:29.837305Z"
    },
    "papermill": {
     "duration": 0.387582,
     "end_time": "2022-08-25T18:53:29.840558",
     "exception": false,
     "start_time": "2022-08-25T18:53:29.452976",
     "status": "completed"
    },
    "tags": []
   },
   "outputs": [
    {
     "name": "stdout",
     "output_type": "stream",
     "text": [
      "LogisticRegression 0.83\n",
      "RandomForestClassifier 0.88\n",
      "SVC 0.9\n",
      "VotingClassifier 0.9\n"
     ]
    }
   ],
   "source": [
    "from sklearn.metrics import accuracy_score\n",
    "for clf in (log_clf, rnd_clf, svm_clf, voting_clf):\n",
    "    clf.fit(X_train, y_train)\n",
    "    y_pred = clf.predict(X_test)\n",
    "    print(clf.__class__.__name__, accuracy_score(y_test, y_pred))"
   ]
  },
  {
   "cell_type": "markdown",
   "id": "d059e9de",
   "metadata": {
    "papermill": {
     "duration": 0.005442,
     "end_time": "2022-08-25T18:53:29.851840",
     "exception": false,
     "start_time": "2022-08-25T18:53:29.846398",
     "status": "completed"
    },
    "tags": []
   },
   "source": [
    "There you have it! The voting classifier slightly outperforms all the individual classifiers.<br>\n",
    "PS: It is not always going to be so try to apply soft voting"
   ]
  },
  {
   "cell_type": "markdown",
   "id": "56be4466",
   "metadata": {
    "papermill": {
     "duration": 0.005412,
     "end_time": "2022-08-25T18:53:29.862828",
     "exception": false,
     "start_time": "2022-08-25T18:53:29.857416",
     "status": "completed"
    },
    "tags": []
   },
   "source": [
    "#### 🍦 Soft Voting\n",
    ">If all classifiers are able to estimate class probabilities (i.e., they have a pre\n",
    "dict_proba() method), then you can tell Scikit-Learn to predict the class with the\n",
    "highest class probability, averaged over all the individual classifiers. This is called soft\n",
    "voting. It often achieves higher performance than hard voting because it gives more\n",
    "weight to highly confident votes. All you need to do is replace voting=\"hard\" with\n",
    "voting=\"soft\" and ensure that all classifiers can estimate class probabilities.\n"
   ]
  },
  {
   "cell_type": "markdown",
   "id": "bb3c21ed",
   "metadata": {
    "papermill": {
     "duration": 0.005647,
     "end_time": "2022-08-25T18:53:29.874267",
     "exception": false,
     "start_time": "2022-08-25T18:53:29.868620",
     "status": "completed"
    },
    "tags": []
   },
   "source": [
    "# 2) Bagging and Pasting\n",
    "**Bootstrapping**<br>\n",
    "In statistics, bootstrapping refers to a resample method that consists of repeatedly drawn, with replacement, samples from data to form other smaller datasets, called bootstrapping samples. It’s as if the bootstrapping method is making a bunch of simulations to our original dataset so in some cases we can generalize the mean and the standard deviation.\n",
    "\n",
    "For example, let’s say we have a set of observations: [2, 4, 32, 8, 16]. If we want each bootstrap sample containing n observations, the following are valid samples:\n",
    "\n",
    "n=3: [32, 4, 4], [8, 16, 2], [2, 2, 2]…\n",
    "n=4: [2, 32, 4, 16], [2, 4, 2, 8], [8, 32, 4, 2]…\n",
    "Since we drawn data with replacement, the observations can appear more than one time in a single sample.<br>.<br>\n",
    "**Bagging & Pasting**<br>\n",
    "Bagging means bootstrap+aggregating and it is a ensemble method in which we first bootstrap our data and for each bootstrap sample we train one model. After that, we aggregate them with equal weights. When it’s not used replacement, the method is called pasting."
   ]
  },
  {
   "cell_type": "code",
   "execution_count": 7,
   "id": "d5d6f3a4",
   "metadata": {
    "execution": {
     "iopub.execute_input": "2022-08-25T18:53:29.888286Z",
     "iopub.status.busy": "2022-08-25T18:53:29.887495Z",
     "iopub.status.idle": "2022-08-25T18:53:31.883816Z",
     "shell.execute_reply": "2022-08-25T18:53:31.882584Z"
    },
    "papermill": {
     "duration": 2.006068,
     "end_time": "2022-08-25T18:53:31.886299",
     "exception": false,
     "start_time": "2022-08-25T18:53:29.880231",
     "status": "completed"
    },
    "tags": []
   },
   "outputs": [
    {
     "data": {
      "text/plain": [
       "0.9"
      ]
     },
     "execution_count": 7,
     "metadata": {},
     "output_type": "execute_result"
    }
   ],
   "source": [
    "from sklearn.ensemble import BaggingClassifier\n",
    "from sklearn.tree import DecisionTreeClassifier\n",
    "\n",
    "bag_clf = BaggingClassifier(\n",
    "    DecisionTreeClassifier(), n_estimators=500,\n",
    "    max_samples=100, bootstrap=True, n_jobs=-1)\n",
    "bag_clf.fit(X_train, y_train)\n",
    "y_pred = bag_clf.predict(X_test)\n",
    "accuracy_score(y_test, y_pred)"
   ]
  },
  {
   "cell_type": "code",
   "execution_count": 8,
   "id": "11a8e403",
   "metadata": {
    "execution": {
     "iopub.execute_input": "2022-08-25T18:53:31.900375Z",
     "iopub.status.busy": "2022-08-25T18:53:31.899624Z",
     "iopub.status.idle": "2022-08-25T18:53:31.909151Z",
     "shell.execute_reply": "2022-08-25T18:53:31.907755Z"
    },
    "papermill": {
     "duration": 0.019463,
     "end_time": "2022-08-25T18:53:31.911588",
     "exception": false,
     "start_time": "2022-08-25T18:53:31.892125",
     "status": "completed"
    },
    "tags": []
   },
   "outputs": [
    {
     "name": "stdout",
     "output_type": "stream",
     "text": [
      "0.86\n"
     ]
    }
   ],
   "source": [
    "tree_clf = DecisionTreeClassifier(random_state=42)\n",
    "tree_clf.fit(X_train, y_train)\n",
    "y_pred_tree = tree_clf.predict(X_test)\n",
    "print(accuracy_score(y_test, y_pred_tree))"
   ]
  },
  {
   "cell_type": "code",
   "execution_count": 9,
   "id": "94e06df7",
   "metadata": {
    "execution": {
     "iopub.execute_input": "2022-08-25T18:53:31.926128Z",
     "iopub.status.busy": "2022-08-25T18:53:31.925353Z",
     "iopub.status.idle": "2022-08-25T18:53:33.137705Z",
     "shell.execute_reply": "2022-08-25T18:53:33.136281Z"
    },
    "papermill": {
     "duration": 1.224013,
     "end_time": "2022-08-25T18:53:33.141429",
     "exception": false,
     "start_time": "2022-08-25T18:53:31.917416",
     "status": "completed"
    },
    "tags": []
   },
   "outputs": [
    {
     "data": {
      "image/png": "[encoded data removed]",
      "text/plain": [
       "<Figure size 720x288 with 2 Axes>"
      ]
     },
     "metadata": {
      "needs_background": "light"
     },
     "output_type": "display_data"
    }
   ],
   "source": [
    "from matplotlib.colors import ListedColormap\n",
    "\n",
    "def plot_decision_boundary(clf, X, y, axes=[-1.5, 2.45, -1, 1.5], alpha=0.5, contour=True):\n",
    "    x1s = np.linspace(axes[0], axes[1], 100)\n",
    "    x2s = np.linspace(axes[2], axes[3], 100)\n",
    "    x1, x2 = np.meshgrid(x1s, x2s)\n",
    "    X_new = np.c_[x1.ravel(), x2.ravel()]\n",
    "    y_pred = clf.predict(X_new).reshape(x1.shape)\n",
    "    custom_cmap = ListedColormap(['#fafab0','#9898ff','#a0faa0'])\n",
    "    plt.contourf(x1, x2, y_pred, alpha=0.3, cmap=custom_cmap)\n",
    "    if contour:\n",
    "        custom_cmap2 = ListedColormap(['#7d7d58','#4c4c7f','#507d50'])\n",
    "        plt.contour(x1, x2, y_pred, cmap=custom_cmap2, alpha=0.8)\n",
    "    plt.plot(X[:, 0][y==0], X[:, 1][y==0], \"yo\", alpha=alpha)\n",
    "    plt.plot(X[:, 0][y==1], X[:, 1][y==1], \"bs\", alpha=alpha)\n",
    "    plt.axis(axes)\n",
    "    plt.xlabel(r\"$x_1$\", fontsize=18)\n",
    "    plt.ylabel(r\"$x_2$\", fontsize=18, rotation=0)\n",
    "    \n",
    "fig, axes = plt.subplots(ncols=2, figsize=(10,4), sharey=True)\n",
    "plt.sca(axes[0])\n",
    "plot_decision_boundary(tree_clf, X, y)\n",
    "plt.title(\"Decision Tree\", fontsize=14)\n",
    "plt.sca(axes[1])\n",
    "plot_decision_boundary(bag_clf, X, y)\n",
    "plt.title(\"Decision Trees with Bagging\", fontsize=14)\n",
    "plt.ylabel(\"\")\n",
    "plt.show()"
   ]
  },
  {
   "cell_type": "code",
   "execution_count": 10,
   "id": "70c519f1",
   "metadata": {
    "execution": {
     "iopub.execute_input": "2022-08-25T18:53:33.160710Z",
     "iopub.status.busy": "2022-08-25T18:53:33.159065Z",
     "iopub.status.idle": "2022-08-25T18:53:33.979118Z",
     "shell.execute_reply": "2022-08-25T18:53:33.977700Z"
    },
    "papermill": {
     "duration": 0.832255,
     "end_time": "2022-08-25T18:53:33.981697",
     "exception": false,
     "start_time": "2022-08-25T18:53:33.149442",
     "status": "completed"
    },
    "tags": []
   },
   "outputs": [
    {
     "data": {
      "text/plain": [
       "0.9"
      ]
     },
     "execution_count": 10,
     "metadata": {},
     "output_type": "execute_result"
    }
   ],
   "source": [
    "from sklearn.model_selection import cross_val_score\n",
    "pas_clf = BaggingClassifier(\n",
    "DecisionTreeClassifier(), n_estimators=500, \n",
    "    max_samples=100, bootstrap=False, n_jobs=-1)\n",
    "    \n",
    "pas_clf.fit(X_train, y_train)\n",
    "pas_pred = pas_clf.predict(X_test)\n",
    "accuracy_score(y_test,pas_pred)"
   ]
  },
  {
   "cell_type": "code",
   "execution_count": null,
   "id": "b95cedcc",
   "metadata": {
    "papermill": {
     "duration": 0.006791,
     "end_time": "2022-08-25T18:53:33.995665",
     "exception": false,
     "start_time": "2022-08-25T18:53:33.988874",
     "status": "completed"
    },
    "tags": []
   },
   "outputs": [],
   "source": []
  }
 ],
 "metadata": {
  "kernelspec": {
   "display_name": "Python 3",
   "language": "python",
   "name": "python3"
  },
  "language_info": {
   "codemirror_mode": {
    "name": "ipython",
    "version": 3
   },
   "file_extension": ".py",
   "mimetype": "text/x-python",
   "name": "python",
   "nbconvert_exporter": "python",
   "pygments_lexer": "ipython3",
   "version": "3.7.12"
  },
  "papermill": {
   "default_parameters": {},
   "duration": 22.574955,
   "end_time": "2022-08-25T18:53:36.624316",
   "environment_variables": {},
   "exception": null,
   "input_path": "__notebook__.ipynb",
   "output_path": "__notebook__.ipynb",
   "parameters": {},
   "start_time": "2022-08-25T18:53:14.049361",
   "version": "2.3.4"
  }
 },
 "nbformat": 4,
 "nbformat_minor": 5
}
