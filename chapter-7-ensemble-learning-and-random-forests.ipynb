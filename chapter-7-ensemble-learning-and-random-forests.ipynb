{
 "cells": [
  {
   "cell_type": "code",
   "execution_count": 1,
   "id": "2385bb74",
   "metadata": {
    "_cell_guid": "b1076dfc-b9ad-4769-8c92-a6c4dae69d19",
    "_uuid": "8f2839f25d086af736a60e9eeb907d3b93b6e0e5",
    "execution": {
     "iopub.execute_input": "2022-08-25T19:14:48.826473Z",
     "iopub.status.busy": "2022-08-25T19:14:48.825717Z",
     "iopub.status.idle": "2022-08-25T19:14:48.838764Z",
     "shell.execute_reply": "2022-08-25T19:14:48.837587Z"
    },
    "papermill": {
     "duration": 0.027275,
     "end_time": "2022-08-25T19:14:48.841426",
     "exception": false,
     "start_time": "2022-08-25T19:14:48.814151",
     "status": "completed"
    },
    "tags": []
   },
   "outputs": [],
   "source": [
    "# This Python 3 environment comes with many helpful analytics libraries installed\n",
    "# It is defined by the kaggle/python Docker image: https://github.com/kaggle/docker-python\n",
    "# For example, here's several helpful packages to load\n",
    "\n",
    "import numpy as np # linear algebra\n",
    "import pandas as pd # data processing, CSV file I/O (e.g. pd.read_csv)\n",
    "\n",
    "# Input data files are available in the read-only \"../input/\" directory\n",
    "# For example, running this (by clicking run or pressing Shift+Enter) will list all files under the input directory\n",
    "\n",
    "import os\n",
    "for dirname, _, filenames in os.walk('/kaggle/input'):\n",
    "    for filename in filenames:\n",
    "        print(os.path.join(dirname, filename))\n",
    "\n",
    "# You can write up to 20GB to the current directory (/kaggle/working/) that gets preserved as output when you create a version using \"Save & Run All\" \n",
    "# You can also write temporary files to /kaggle/temp/, but they won't be saved outside of the current session"
   ]
  },
  {
   "cell_type": "markdown",
   "id": "44c51c30",
   "metadata": {
    "papermill": {
     "duration": 0.005893,
     "end_time": "2022-08-25T19:14:48.853432",
     "exception": false,
     "start_time": "2022-08-25T19:14:48.847539",
     "status": "completed"
    },
    "tags": []
   },
   "source": [
    "#### Setup"
   ]
  },
  {
   "cell_type": "code",
   "execution_count": 2,
   "id": "8c5f29ce",
   "metadata": {
    "execution": {
     "iopub.execute_input": "2022-08-25T19:14:48.867143Z",
     "iopub.status.busy": "2022-08-25T19:14:48.866698Z",
     "iopub.status.idle": "2022-08-25T19:14:48.871757Z",
     "shell.execute_reply": "2022-08-25T19:14:48.870639Z"
    },
    "papermill": {
     "duration": 0.014862,
     "end_time": "2022-08-25T19:14:48.874238",
     "exception": false,
     "start_time": "2022-08-25T19:14:48.859376",
     "status": "completed"
    },
    "tags": []
   },
   "outputs": [],
   "source": [
    "import matplotlib.pyplot as plt\n",
    "import matplotlib as mpl"
   ]
  },
  {
   "cell_type": "markdown",
   "id": "82a2d1e1",
   "metadata": {
    "papermill": {
     "duration": 0.005741,
     "end_time": "2022-08-25T19:14:48.886110",
     "exception": false,
     "start_time": "2022-08-25T19:14:48.880369",
     "status": "completed"
    },
    "tags": []
   },
   "source": [
    "## **CHAPTER 7**\n",
    "# Ensemble Learning and Random Forests"
   ]
  },
  {
   "cell_type": "markdown",
   "id": "6a3072f3",
   "metadata": {
    "papermill": {
     "duration": 0.005662,
     "end_time": "2022-08-25T19:14:48.897606",
     "exception": false,
     "start_time": "2022-08-25T19:14:48.891944",
     "status": "completed"
    },
    "tags": []
   },
   "source": [
    "If you aggregate\n",
    "the predictions of a group of predictors (such as classifiers or regressors), you will\n",
    "often get better predictions than with the best individual predictor. A group of predictors\n",
    "is called an ensemble; thus, this technique is called Ensemble Learning, and an\n",
    "Ensemble Learning algorithm is called an Ensemble method.<br>\n",
    "An ensemble of Decision Trees is called a Random Forest,\n",
    "and despite its simplicity, this is one of the most powerful Machine Learning algorithms\n",
    "available today.\n"
   ]
  },
  {
   "cell_type": "markdown",
   "id": "1b816b09",
   "metadata": {
    "papermill": {
     "duration": 0.00562,
     "end_time": "2022-08-25T19:14:48.909127",
     "exception": false,
     "start_time": "2022-08-25T19:14:48.903507",
     "status": "completed"
    },
    "tags": []
   },
   "source": [
    "### 📌REMEMBER\n",
    ">Ensemble methods work best when the predictors are as independent\n",
    "from one another as possible. One way to get diverse classifiers\n",
    "is to train them using very different algorithms. This increases the\n",
    "chance that they will make very different types of errors, improving\n",
    "the ensemble’s accuracy."
   ]
  },
  {
   "cell_type": "markdown",
   "id": "c4ef8b9f",
   "metadata": {
    "papermill": {
     "duration": 0.005663,
     "end_time": "2022-08-25T19:14:48.921000",
     "exception": false,
     "start_time": "2022-08-25T19:14:48.915337",
     "status": "completed"
    },
    "tags": []
   },
   "source": [
    "# 1) Voting Classifiers"
   ]
  },
  {
   "cell_type": "markdown",
   "id": "6447d8cc",
   "metadata": {
    "papermill": {
     "duration": 0.005636,
     "end_time": "2022-08-25T19:14:48.932596",
     "exception": false,
     "start_time": "2022-08-25T19:14:48.926960",
     "status": "completed"
    },
    "tags": []
   },
   "source": [
    "Training **Random Forest, Logistic Regression and SVC** on Moon's Dataset (Chapter 5)\n",
    ">A very simple way to create an even better classifier is to aggregate the predictions of\n",
    "each classifier and predict the class that gets the most votes. This majority-vote classifier\n",
    "is called a hard voting classifier"
   ]
  },
  {
   "cell_type": "code",
   "execution_count": 3,
   "id": "11c37c5a",
   "metadata": {
    "execution": {
     "iopub.execute_input": "2022-08-25T19:14:48.946321Z",
     "iopub.status.busy": "2022-08-25T19:14:48.945906Z",
     "iopub.status.idle": "2022-08-25T19:14:50.291485Z",
     "shell.execute_reply": "2022-08-25T19:14:50.290375Z"
    },
    "papermill": {
     "duration": 1.356096,
     "end_time": "2022-08-25T19:14:50.294572",
     "exception": false,
     "start_time": "2022-08-25T19:14:48.938476",
     "status": "completed"
    },
    "tags": []
   },
   "outputs": [],
   "source": [
    "# Generaging Moons DataSet\n",
    "\n",
    "from sklearn.datasets import make_moons\n",
    "from sklearn.model_selection import train_test_split\n",
    "X, y = make_moons(n_samples=500, noise=0.3, random_state=42)\n",
    "\n",
    "X_train, X_test, y_train, y_test = train_test_split(X, y, train_size= 0.8)\n"
   ]
  },
  {
   "cell_type": "code",
   "execution_count": 4,
   "id": "22e9e6af",
   "metadata": {
    "execution": {
     "iopub.execute_input": "2022-08-25T19:14:50.308395Z",
     "iopub.status.busy": "2022-08-25T19:14:50.307986Z",
     "iopub.status.idle": "2022-08-25T19:14:54.220387Z",
     "shell.execute_reply": "2022-08-25T19:14:54.219411Z"
    },
    "papermill": {
     "duration": 3.923116,
     "end_time": "2022-08-25T19:14:54.223902",
     "exception": false,
     "start_time": "2022-08-25T19:14:50.300786",
     "status": "completed"
    },
    "tags": []
   },
   "outputs": [
    {
     "data": {
      "image/png": "[encoded data removed]",
      "text/plain": [
       "<Figure size 432x288 with 1 Axes>"
      ]
     },
     "metadata": {
      "needs_background": "light"
     },
     "output_type": "display_data"
    },
    {
     "data": {
      "text/plain": [
       "((400, 2), (500, 2))"
      ]
     },
     "execution_count": 4,
     "metadata": {},
     "output_type": "execute_result"
    }
   ],
   "source": [
    "predicted = y_train\n",
    "for i in range(len(predicted)):\n",
    "    if predicted[i]:\n",
    "        plt.scatter(X_train[i, 0], X_train[i, 1], c=\"r\")\n",
    "    else:\n",
    "        plt.scatter(X_train[i, 0], X_train[i, 1], c=\"b\")\n",
    "\n",
    "plt.show()\n",
    "\n",
    "\n",
    "X_train.shape,X.shape"
   ]
  },
  {
   "cell_type": "code",
   "execution_count": 5,
   "id": "9e8546e5",
   "metadata": {
    "execution": {
     "iopub.execute_input": "2022-08-25T19:14:54.240082Z",
     "iopub.status.busy": "2022-08-25T19:14:54.239036Z",
     "iopub.status.idle": "2022-08-25T19:14:54.665619Z",
     "shell.execute_reply": "2022-08-25T19:14:54.664211Z"
    },
    "papermill": {
     "duration": 0.437583,
     "end_time": "2022-08-25T19:14:54.668281",
     "exception": false,
     "start_time": "2022-08-25T19:14:54.230698",
     "status": "completed"
    },
    "tags": []
   },
   "outputs": [
    {
     "data": {
      "text/plain": [
       "VotingClassifier(estimators=[('lr', LogisticRegression()),\n",
       "                             ('rf', RandomForestClassifier()), ('svc', SVC())])"
      ]
     },
     "execution_count": 5,
     "metadata": {},
     "output_type": "execute_result"
    }
   ],
   "source": [
    "from sklearn.ensemble import VotingClassifier\n",
    "\n",
    "from sklearn.ensemble import RandomForestClassifier\n",
    "from sklearn.linear_model import LogisticRegression\n",
    "from sklearn.svm import SVC\n",
    "\n",
    "log_clf  = LogisticRegression()\n",
    "rnd_clf = RandomForestClassifier()\n",
    "svm_clf = SVC()\n",
    "\n",
    "voting_clf = VotingClassifier(\n",
    "    estimators=[('lr', log_clf), ('rf', rnd_clf), ('svc', svm_clf)],\n",
    "    voting='hard')\n",
    "voting_clf.fit(X_train, y_train)\n"
   ]
  },
  {
   "cell_type": "code",
   "execution_count": 6,
   "id": "7b57bc79",
   "metadata": {
    "execution": {
     "iopub.execute_input": "2022-08-25T19:14:54.683652Z",
     "iopub.status.busy": "2022-08-25T19:14:54.682794Z",
     "iopub.status.idle": "2022-08-25T19:14:55.038371Z",
     "shell.execute_reply": "2022-08-25T19:14:55.036806Z"
    },
    "papermill": {
     "duration": 0.36665,
     "end_time": "2022-08-25T19:14:55.041569",
     "exception": false,
     "start_time": "2022-08-25T19:14:54.674919",
     "status": "completed"
    },
    "tags": []
   },
   "outputs": [
    {
     "name": "stdout",
     "output_type": "stream",
     "text": [
      "LogisticRegression 0.81\n",
      "RandomForestClassifier 0.89\n",
      "SVC 0.88\n",
      "VotingClassifier 0.88\n"
     ]
    }
   ],
   "source": [
    "from sklearn.metrics import accuracy_score\n",
    "for clf in (log_clf, rnd_clf, svm_clf, voting_clf):\n",
    "    clf.fit(X_train, y_train)\n",
    "    y_pred = clf.predict(X_test)\n",
    "    print(clf.__class__.__name__, accuracy_score(y_test, y_pred))"
   ]
  },
  {
   "cell_type": "markdown",
   "id": "1f610e18",
   "metadata": {
    "papermill": {
     "duration": 0.006282,
     "end_time": "2022-08-25T19:14:55.054605",
     "exception": false,
     "start_time": "2022-08-25T19:14:55.048323",
     "status": "completed"
    },
    "tags": []
   },
   "source": [
    "There you have it! The voting classifier slightly outperforms all the individual classifiers.<br>\n",
    "PS: It is not always going to be so try to apply soft voting"
   ]
  },
  {
   "cell_type": "markdown",
   "id": "2ce5f0bb",
   "metadata": {
    "papermill": {
     "duration": 0.006371,
     "end_time": "2022-08-25T19:14:55.068376",
     "exception": false,
     "start_time": "2022-08-25T19:14:55.062005",
     "status": "completed"
    },
    "tags": []
   },
   "source": [
    "#### 🍦 Soft Voting\n",
    ">If all classifiers are able to estimate class probabilities (i.e., they have a pre\n",
    "dict_proba() method), then you can tell Scikit-Learn to predict the class with the\n",
    "highest class probability, averaged over all the individual classifiers. This is called soft\n",
    "voting. It often achieves higher performance than hard voting because it gives more\n",
    "weight to highly confident votes. All you need to do is replace voting=\"hard\" with\n",
    "voting=\"soft\" and ensure that all classifiers can estimate class probabilities.\n"
   ]
  },
  {
   "cell_type": "markdown",
   "id": "c853fe95",
   "metadata": {
    "papermill": {
     "duration": 0.006271,
     "end_time": "2022-08-25T19:14:55.081256",
     "exception": false,
     "start_time": "2022-08-25T19:14:55.074985",
     "status": "completed"
    },
    "tags": []
   },
   "source": [
    "# 2) Bagging and Pasting\n",
    "**Bootstrapping**<br>\n",
    "In statistics, bootstrapping refers to a resample method that consists of repeatedly drawn, with replacement, samples from data to form other smaller datasets, called bootstrapping samples. It’s as if the bootstrapping method is making a bunch of simulations to our original dataset so in some cases we can generalize the mean and the standard deviation.\n",
    "\n",
    "For example, let’s say we have a set of observations: [2, 4, 32, 8, 16]. If we want each bootstrap sample containing n observations, the following are valid samples:\n",
    "\n",
    "n=3: [32, 4, 4], [8, 16, 2], [2, 2, 2]…\n",
    "n=4: [2, 32, 4, 16], [2, 4, 2, 8], [8, 32, 4, 2]…\n",
    "Since we drawn data with replacement, the observations can appear more than one time in a single sample.<br>.<br>\n",
    "**Bagging & Pasting**<br>\n",
    "Bagging means bootstrap+aggregating and it is a ensemble method in which we first bootstrap our data and for each bootstrap sample we train one model. After that, we aggregate them with equal weights. When it’s not used replacement, the method is called pasting."
   ]
  },
  {
   "cell_type": "code",
   "execution_count": 7,
   "id": "f0627245",
   "metadata": {
    "execution": {
     "iopub.execute_input": "2022-08-25T19:14:55.096109Z",
     "iopub.status.busy": "2022-08-25T19:14:55.095694Z",
     "iopub.status.idle": "2022-08-25T19:14:57.214610Z",
     "shell.execute_reply": "2022-08-25T19:14:57.213330Z"
    },
    "papermill": {
     "duration": 2.129379,
     "end_time": "2022-08-25T19:14:57.217118",
     "exception": false,
     "start_time": "2022-08-25T19:14:55.087739",
     "status": "completed"
    },
    "tags": []
   },
   "outputs": [
    {
     "data": {
      "text/plain": [
       "0.87"
      ]
     },
     "execution_count": 7,
     "metadata": {},
     "output_type": "execute_result"
    }
   ],
   "source": [
    "from sklearn.ensemble import BaggingClassifier\n",
    "from sklearn.tree import DecisionTreeClassifier\n",
    "\n",
    "bag_clf = BaggingClassifier(\n",
    "    DecisionTreeClassifier(), n_estimators=500,\n",
    "    max_samples=100, bootstrap=True, n_jobs=-1, oob_score=True)\n",
    "bag_clf.fit(X_train, y_train)\n",
    "y_pred = bag_clf.predict(X_test)\n",
    "accuracy_score(y_test, y_pred)"
   ]
  },
  {
   "cell_type": "code",
   "execution_count": 8,
   "id": "4be8ffab",
   "metadata": {
    "execution": {
     "iopub.execute_input": "2022-08-25T19:14:57.233354Z",
     "iopub.status.busy": "2022-08-25T19:14:57.232648Z",
     "iopub.status.idle": "2022-08-25T19:14:57.241747Z",
     "shell.execute_reply": "2022-08-25T19:14:57.240127Z"
    },
    "papermill": {
     "duration": 0.020096,
     "end_time": "2022-08-25T19:14:57.244027",
     "exception": false,
     "start_time": "2022-08-25T19:14:57.223931",
     "status": "completed"
    },
    "tags": []
   },
   "outputs": [
    {
     "name": "stdout",
     "output_type": "stream",
     "text": [
      "0.86\n"
     ]
    }
   ],
   "source": [
    "tree_clf = DecisionTreeClassifier(random_state=42)\n",
    "tree_clf.fit(X_train, y_train)\n",
    "y_pred_tree = tree_clf.predict(X_test)\n",
    "print(accuracy_score(y_test, y_pred_tree))"
   ]
  },
  {
   "cell_type": "code",
   "execution_count": 9,
   "id": "0a6b6f1c",
   "metadata": {
    "execution": {
     "iopub.execute_input": "2022-08-25T19:14:57.260059Z",
     "iopub.status.busy": "2022-08-25T19:14:57.259261Z",
     "iopub.status.idle": "2022-08-25T19:14:58.354941Z",
     "shell.execute_reply": "2022-08-25T19:14:58.353584Z"
    },
    "papermill": {
     "duration": 1.106462,
     "end_time": "2022-08-25T19:14:58.357397",
     "exception": false,
     "start_time": "2022-08-25T19:14:57.250935",
     "status": "completed"
    },
    "tags": []
   },
   "outputs": [
    {
     "data": {
      "image/png": "[encoded data removed]",
      "text/plain": [
       "<Figure size 720x288 with 2 Axes>"
      ]
     },
     "metadata": {
      "needs_background": "light"
     },
     "output_type": "display_data"
    }
   ],
   "source": [
    "from matplotlib.colors import ListedColormap\n",
    "\n",
    "def plot_decision_boundary(clf, X, y, axes=[-1.5, 2.45, -1, 1.5], alpha=0.5, contour=True):\n",
    "    x1s = np.linspace(axes[0], axes[1], 100)\n",
    "    x2s = np.linspace(axes[2], axes[3], 100)\n",
    "    x1, x2 = np.meshgrid(x1s, x2s)\n",
    "    X_new = np.c_[x1.ravel(), x2.ravel()]\n",
    "    y_pred = clf.predict(X_new).reshape(x1.shape)\n",
    "    custom_cmap = ListedColormap(['#fafab0','#9898ff','#a0faa0'])\n",
    "    plt.contourf(x1, x2, y_pred, alpha=0.3, cmap=custom_cmap)\n",
    "    if contour:\n",
    "        custom_cmap2 = ListedColormap(['#7d7d58','#4c4c7f','#507d50'])\n",
    "        plt.contour(x1, x2, y_pred, cmap=custom_cmap2, alpha=0.8)\n",
    "    plt.plot(X[:, 0][y==0], X[:, 1][y==0], \"yo\", alpha=alpha)\n",
    "    plt.plot(X[:, 0][y==1], X[:, 1][y==1], \"bs\", alpha=alpha)\n",
    "    plt.axis(axes)\n",
    "    plt.xlabel(r\"$x_1$\", fontsize=18)\n",
    "    plt.ylabel(r\"$x_2$\", fontsize=18, rotation=0)\n",
    "    \n",
    "fig, axes = plt.subplots(ncols=2, figsize=(10,4), sharey=True)\n",
    "plt.sca(axes[0])\n",
    "plot_decision_boundary(tree_clf, X, y)\n",
    "plt.title(\"Decision Tree\", fontsize=14)\n",
    "plt.sca(axes[1])\n",
    "plot_decision_boundary(bag_clf, X, y)\n",
    "plt.title(\"Decision Trees with Bagging\", fontsize=14)\n",
    "plt.ylabel(\"\")\n",
    "plt.show()"
   ]
  },
  {
   "cell_type": "code",
   "execution_count": 10,
   "id": "65edcca8",
   "metadata": {
    "execution": {
     "iopub.execute_input": "2022-08-25T19:14:58.376140Z",
     "iopub.status.busy": "2022-08-25T19:14:58.375108Z",
     "iopub.status.idle": "2022-08-25T19:14:59.103290Z",
     "shell.execute_reply": "2022-08-25T19:14:59.102350Z"
    },
    "papermill": {
     "duration": 0.739609,
     "end_time": "2022-08-25T19:14:59.105357",
     "exception": false,
     "start_time": "2022-08-25T19:14:58.365748",
     "status": "completed"
    },
    "tags": []
   },
   "outputs": [
    {
     "data": {
      "text/plain": [
       "0.89"
      ]
     },
     "execution_count": 10,
     "metadata": {},
     "output_type": "execute_result"
    }
   ],
   "source": [
    "from sklearn.model_selection import cross_val_score\n",
    "pas_clf = BaggingClassifier(\n",
    "DecisionTreeClassifier(), n_estimators=500, \n",
    "    max_samples=100, bootstrap=False, n_jobs=-1)\n",
    "    \n",
    "pas_clf.fit(X_train, y_train)\n",
    "pas_pred = pas_clf.predict(X_test)\n",
    "accuracy_score(y_test,pas_pred)"
   ]
  },
  {
   "cell_type": "code",
   "execution_count": 11,
   "id": "76348318",
   "metadata": {
    "execution": {
     "iopub.execute_input": "2022-08-25T19:14:59.123159Z",
     "iopub.status.busy": "2022-08-25T19:14:59.122711Z",
     "iopub.status.idle": "2022-08-25T19:15:01.961266Z",
     "shell.execute_reply": "2022-08-25T19:15:01.960392Z"
    },
    "papermill": {
     "duration": 2.850121,
     "end_time": "2022-08-25T19:15:01.963405",
     "exception": false,
     "start_time": "2022-08-25T19:14:59.113284",
     "status": "completed"
    },
    "tags": []
   },
   "outputs": [
    {
     "data": {
      "text/plain": [
       "array([0.89221557, 0.92814371, 0.88554217])"
      ]
     },
     "execution_count": 11,
     "metadata": {},
     "output_type": "execute_result"
    }
   ],
   "source": [
    "cross_val_score(bag_clf, X, y, cv=3)"
   ]
  },
  {
   "cell_type": "code",
   "execution_count": 12,
   "id": "be8a0a70",
   "metadata": {
    "execution": {
     "iopub.execute_input": "2022-08-25T19:15:01.981853Z",
     "iopub.status.busy": "2022-08-25T19:15:01.981145Z",
     "iopub.status.idle": "2022-08-25T19:15:04.193830Z",
     "shell.execute_reply": "2022-08-25T19:15:04.192547Z"
    },
    "papermill": {
     "duration": 2.224787,
     "end_time": "2022-08-25T19:15:04.196388",
     "exception": false,
     "start_time": "2022-08-25T19:15:01.971601",
     "status": "completed"
    },
    "tags": []
   },
   "outputs": [
    {
     "data": {
      "text/plain": [
       "array([0.89221557, 0.91616766, 0.89156627])"
      ]
     },
     "execution_count": 12,
     "metadata": {},
     "output_type": "execute_result"
    }
   ],
   "source": [
    "cross_val_score(pas_clf, X, y, cv=3)"
   ]
  },
  {
   "cell_type": "markdown",
   "id": "1a93bdba",
   "metadata": {
    "papermill": {
     "duration": 0.008047,
     "end_time": "2022-08-25T19:15:04.212702",
     "exception": false,
     "start_time": "2022-08-25T19:15:04.204655",
     "status": "completed"
    },
    "tags": []
   },
   "source": [
    "### Out of Bag Evaluation"
   ]
  },
  {
   "cell_type": "code",
   "execution_count": 13,
   "id": "0c962613",
   "metadata": {
    "execution": {
     "iopub.execute_input": "2022-08-25T19:15:04.231975Z",
     "iopub.status.busy": "2022-08-25T19:15:04.231581Z",
     "iopub.status.idle": "2022-08-25T19:15:04.238381Z",
     "shell.execute_reply": "2022-08-25T19:15:04.237130Z"
    },
    "papermill": {
     "duration": 0.019627,
     "end_time": "2022-08-25T19:15:04.240886",
     "exception": false,
     "start_time": "2022-08-25T19:15:04.221259",
     "status": "completed"
    },
    "tags": []
   },
   "outputs": [
    {
     "name": "stdout",
     "output_type": "stream",
     "text": [
      "0.9225\n",
      "0.87\n"
     ]
    }
   ],
   "source": [
    "# just set oob_score=True in BaggingClassifier\n",
    "print(bag_clf.oob_score_)\n",
    "\n",
    "# According to this oob evaluation, this BaggingClassifier is \n",
    "# likely to achieve about\n",
    "# 91.2% accuracy on the test set.\n",
    "print(accuracy_score(y_test, y_pred))"
   ]
  },
  {
   "cell_type": "code",
   "execution_count": 14,
   "id": "dd4b60fa",
   "metadata": {
    "execution": {
     "iopub.execute_input": "2022-08-25T19:15:04.260191Z",
     "iopub.status.busy": "2022-08-25T19:15:04.259162Z",
     "iopub.status.idle": "2022-08-25T19:15:04.264159Z",
     "shell.execute_reply": "2022-08-25T19:15:04.263205Z"
    },
    "papermill": {
     "duration": 0.017002,
     "end_time": "2022-08-25T19:15:04.266384",
     "exception": false,
     "start_time": "2022-08-25T19:15:04.249382",
     "status": "completed"
    },
    "tags": []
   },
   "outputs": [],
   "source": [
    "#bag_clf.oob_decision_function_"
   ]
  },
  {
   "cell_type": "code",
   "execution_count": null,
   "id": "f0f445d1",
   "metadata": {
    "papermill": {
     "duration": 0.007999,
     "end_time": "2022-08-25T19:15:04.282836",
     "exception": false,
     "start_time": "2022-08-25T19:15:04.274837",
     "status": "completed"
    },
    "tags": []
   },
   "outputs": [],
   "source": []
  }
 ],
 "metadata": {
  "kernelspec": {
   "display_name": "Python 3",
   "language": "python",
   "name": "python3"
  },
  "language_info": {
   "codemirror_mode": {
    "name": "ipython",
    "version": 3
   },
   "file_extension": ".py",
   "mimetype": "text/x-python",
   "name": "python",
   "nbconvert_exporter": "python",
   "pygments_lexer": "ipython3",
   "version": "3.7.12"
  },
  "papermill": {
   "default_parameters": {},
   "duration": 27.383287,
   "end_time": "2022-08-25T19:15:06.912442",
   "environment_variables": {},
   "exception": null,
   "input_path": "__notebook__.ipynb",
   "output_path": "__notebook__.ipynb",
   "parameters": {},
   "start_time": "2022-08-25T19:14:39.529155",
   "version": "2.3.4"
  }
 },
 "nbformat": 4,
 "nbformat_minor": 5
}
